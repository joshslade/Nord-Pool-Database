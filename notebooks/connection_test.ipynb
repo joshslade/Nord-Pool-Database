{
 "cells": [
  {
   "cell_type": "code",
   "execution_count": 11,
   "id": "4f9b4c33",
   "metadata": {},
   "outputs": [
    {
     "name": "stdout",
     "output_type": "stream",
     "text": [
      "complete\n"
     ]
    }
   ],
   "source": [
    "import os\n",
    "from dotenv import load_dotenv\n",
    "from sqlalchemy import create_engine\n",
    "import pandas as pd\n",
    "\n",
    "# --- Load environment variables from .env ---\n",
    "load_dotenv()\n",
    "\n",
    "# --- Read DB credentials ---\n",
    "DB_USER = os.getenv(\"DB_USER\")\n",
    "DB_PASSWORD = os.getenv(\"DB_PASSWORD\")\n",
    "DB_HOST = os.getenv(\"DB_HOST\")\n",
    "DB_PORT = os.getenv(\"DB_PORT\")\n",
    "DB_NAME = os.getenv(\"DB_NAME\")\n",
    "\n",
    "# --- Construct database URL ---\n",
    "DATABASE_URL = f\"postgresql+psycopg2://{DB_USER}:{DB_PASSWORD}@{DB_HOST}:{DB_PORT}/{DB_NAME}\"\n",
    "\n",
    "# --- Create engine and query ---\n",
    "engine = create_engine(DATABASE_URL)\n",
    "\n",
    "query_root = \"SELECT * FROM analytics.latest_\"\n",
    "\n",
    "tables = [\n",
    "    # 'da_capacity',\n",
    "    'da_flow',\n",
    "    # 'da_idx_prices',\n",
    "    # 'da_prices',\n",
    "    # 'da_volumes'\n",
    "]\n",
    "\n",
    "\n",
    "# --- Load data ---\n",
    "for table in tables:\n",
    "    try:\n",
    "        df = pd.read_sql(query_root+table, engine)\n",
    "        df.to_csv(f'../exports/{table}.csv',index=False)\n",
    "    except Exception as e:\n",
    "        print(f\"Failed on table: {table}. Error querying database: {e}\")\n",
    "        continue\n",
    "\n",
    "print('complete')"
   ]
  },
  {
   "cell_type": "code",
   "execution_count": 12,
   "id": "b66b6887",
   "metadata": {},
   "outputs": [
    {
     "data": {
      "application/vnd.microsoft.datawrangler.viewer.v0+json": {
       "columns": [
        {
         "name": "index",
         "rawType": "int64",
         "type": "integer"
        },
        {
         "name": "delivery_date",
         "rawType": "object",
         "type": "unknown"
        },
        {
         "name": "time_window_gmt",
         "rawType": "object",
         "type": "string"
        },
        {
         "name": "delivery_start",
         "rawType": "datetime64[ns, UTC]",
         "type": "unknown"
        },
        {
         "name": "delivery_end",
         "rawType": "datetime64[ns, UTC]",
         "type": "unknown"
        },
        {
         "name": "no2_total_export_mwh",
         "rawType": "float64",
         "type": "float"
        },
        {
         "name": "no2_total_import_mwh",
         "rawType": "float64",
         "type": "float"
        },
        {
         "name": "uk_total_export_mwh",
         "rawType": "float64",
         "type": "float"
        },
        {
         "name": "uk_total_import_mwh",
         "rawType": "float64",
         "type": "float"
        }
       ],
       "ref": "e205f74c-e5bc-4547-a829-fd554108c4e3",
       "rows": [
        [
         "0",
         "2025-04-01",
         "23:00 - 00:00",
         "2025-03-31 22:00:00+00:00",
         "2025-03-31 23:00:00+00:00",
         "1035.0",
         "0.0",
         "0.0",
         "999.8"
        ],
        [
         "1",
         "2025-04-01",
         "00:00 - 01:00",
         "2025-03-31 23:00:00+00:00",
         "2025-04-01 00:00:00+00:00",
         "1035.0",
         "0.0",
         "0.0",
         "999.8"
        ],
        [
         "2",
         "2025-04-01",
         "01:00 - 02:00",
         "2025-04-01 00:00:00+00:00",
         "2025-04-01 01:00:00+00:00",
         "1035.0",
         "0.0",
         "0.0",
         "999.8"
        ],
        [
         "3",
         "2025-04-01",
         "02:00 - 03:00",
         "2025-04-01 01:00:00+00:00",
         "2025-04-01 02:00:00+00:00",
         "1035.0",
         "0.0",
         "0.0",
         "999.8"
        ],
        [
         "4",
         "2025-04-01",
         "03:00 - 04:00",
         "2025-04-01 02:00:00+00:00",
         "2025-04-01 03:00:00+00:00",
         "1035.0",
         "0.0",
         "0.0",
         "999.8"
        ]
       ],
       "shape": {
        "columns": 8,
        "rows": 5
       }
      },
      "text/html": [
       "<div>\n",
       "<style scoped>\n",
       "    .dataframe tbody tr th:only-of-type {\n",
       "        vertical-align: middle;\n",
       "    }\n",
       "\n",
       "    .dataframe tbody tr th {\n",
       "        vertical-align: top;\n",
       "    }\n",
       "\n",
       "    .dataframe thead th {\n",
       "        text-align: right;\n",
       "    }\n",
       "</style>\n",
       "<table border=\"1\" class=\"dataframe\">\n",
       "  <thead>\n",
       "    <tr style=\"text-align: right;\">\n",
       "      <th></th>\n",
       "      <th>delivery_date</th>\n",
       "      <th>time_window_gmt</th>\n",
       "      <th>delivery_start</th>\n",
       "      <th>delivery_end</th>\n",
       "      <th>no2_total_export_mwh</th>\n",
       "      <th>no2_total_import_mwh</th>\n",
       "      <th>uk_total_export_mwh</th>\n",
       "      <th>uk_total_import_mwh</th>\n",
       "    </tr>\n",
       "  </thead>\n",
       "  <tbody>\n",
       "    <tr>\n",
       "      <th>0</th>\n",
       "      <td>2025-04-01</td>\n",
       "      <td>23:00 - 00:00</td>\n",
       "      <td>2025-03-31 22:00:00+00:00</td>\n",
       "      <td>2025-03-31 23:00:00+00:00</td>\n",
       "      <td>1035.0</td>\n",
       "      <td>0.0</td>\n",
       "      <td>0.0</td>\n",
       "      <td>999.8</td>\n",
       "    </tr>\n",
       "    <tr>\n",
       "      <th>1</th>\n",
       "      <td>2025-04-01</td>\n",
       "      <td>00:00 - 01:00</td>\n",
       "      <td>2025-03-31 23:00:00+00:00</td>\n",
       "      <td>2025-04-01 00:00:00+00:00</td>\n",
       "      <td>1035.0</td>\n",
       "      <td>0.0</td>\n",
       "      <td>0.0</td>\n",
       "      <td>999.8</td>\n",
       "    </tr>\n",
       "    <tr>\n",
       "      <th>2</th>\n",
       "      <td>2025-04-01</td>\n",
       "      <td>01:00 - 02:00</td>\n",
       "      <td>2025-04-01 00:00:00+00:00</td>\n",
       "      <td>2025-04-01 01:00:00+00:00</td>\n",
       "      <td>1035.0</td>\n",
       "      <td>0.0</td>\n",
       "      <td>0.0</td>\n",
       "      <td>999.8</td>\n",
       "    </tr>\n",
       "    <tr>\n",
       "      <th>3</th>\n",
       "      <td>2025-04-01</td>\n",
       "      <td>02:00 - 03:00</td>\n",
       "      <td>2025-04-01 01:00:00+00:00</td>\n",
       "      <td>2025-04-01 02:00:00+00:00</td>\n",
       "      <td>1035.0</td>\n",
       "      <td>0.0</td>\n",
       "      <td>0.0</td>\n",
       "      <td>999.8</td>\n",
       "    </tr>\n",
       "    <tr>\n",
       "      <th>4</th>\n",
       "      <td>2025-04-01</td>\n",
       "      <td>03:00 - 04:00</td>\n",
       "      <td>2025-04-01 02:00:00+00:00</td>\n",
       "      <td>2025-04-01 03:00:00+00:00</td>\n",
       "      <td>1035.0</td>\n",
       "      <td>0.0</td>\n",
       "      <td>0.0</td>\n",
       "      <td>999.8</td>\n",
       "    </tr>\n",
       "  </tbody>\n",
       "</table>\n",
       "</div>"
      ],
      "text/plain": [
       "  delivery_date time_window_gmt            delivery_start  \\\n",
       "0    2025-04-01   23:00 - 00:00 2025-03-31 22:00:00+00:00   \n",
       "1    2025-04-01   00:00 - 01:00 2025-03-31 23:00:00+00:00   \n",
       "2    2025-04-01   01:00 - 02:00 2025-04-01 00:00:00+00:00   \n",
       "3    2025-04-01   02:00 - 03:00 2025-04-01 01:00:00+00:00   \n",
       "4    2025-04-01   03:00 - 04:00 2025-04-01 02:00:00+00:00   \n",
       "\n",
       "               delivery_end  no2_total_export_mwh  no2_total_import_mwh  \\\n",
       "0 2025-03-31 23:00:00+00:00                1035.0                   0.0   \n",
       "1 2025-04-01 00:00:00+00:00                1035.0                   0.0   \n",
       "2 2025-04-01 01:00:00+00:00                1035.0                   0.0   \n",
       "3 2025-04-01 02:00:00+00:00                1035.0                   0.0   \n",
       "4 2025-04-01 03:00:00+00:00                1035.0                   0.0   \n",
       "\n",
       "   uk_total_export_mwh  uk_total_import_mwh  \n",
       "0                  0.0                999.8  \n",
       "1                  0.0                999.8  \n",
       "2                  0.0                999.8  \n",
       "3                  0.0                999.8  \n",
       "4                  0.0                999.8  "
      ]
     },
     "execution_count": 12,
     "metadata": {},
     "output_type": "execute_result"
    }
   ],
   "source": [
    "df.head()"
   ]
  },
  {
   "cell_type": "code",
   "execution_count": null,
   "id": "aaea0856",
   "metadata": {},
   "outputs": [],
   "source": []
  }
 ],
 "metadata": {
  "kernelspec": {
   "display_name": "nordpooldb-env",
   "language": "python",
   "name": "python3"
  },
  "language_info": {
   "codemirror_mode": {
    "name": "ipython",
    "version": 3
   },
   "file_extension": ".py",
   "mimetype": "text/x-python",
   "name": "python",
   "nbconvert_exporter": "python",
   "pygments_lexer": "ipython3",
   "version": "3.11.11"
  }
 },
 "nbformat": 4,
 "nbformat_minor": 5
}
