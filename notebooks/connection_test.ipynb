{
 "cells": [
  {
   "cell_type": "code",
   "execution_count": 11,
   "id": "4f9b4c33",
   "metadata": {},
   "outputs": [
    {
     "name": "stdout",
     "output_type": "stream",
     "text": [
      "complete\n"
     ]
    }
   ],
   "source": [
    "import os\n",
    "from dotenv import load_dotenv\n",
    "from sqlalchemy import create_engine\n",
    "import pandas as pd\n",
    "\n",
    "# --- Load environment variables from .env ---\n",
    "load_dotenv()\n",
    "\n",
    "# --- Read DB credentials ---\n",
    "DB_USER = os.getenv(\"DB_USER\")\n",
    "DB_PASSWORD = os.getenv(\"DB_PASSWORD\")\n",
    "DB_HOST = os.getenv(\"DB_HOST\")\n",
    "DB_PORT = os.getenv(\"DB_PORT\")\n",
    "DB_NAME = os.getenv(\"DB_NAME\")\n",
    "\n",
    "# --- Construct database URL ---\n",
    "DATABASE_URL = f\"postgresql+psycopg2://{DB_USER}:{DB_PASSWORD}@{DB_HOST}:{DB_PORT}/{DB_NAME}\"\n",
    "\n",
    "# --- Create engine and query ---\n",
    "engine = create_engine(DATABASE_URL)\n",
    "\n",
    "query_root = \"SELECT * FROM analytics.latest_\"\n",
    "\n",
    "tables = [\n",
    "    # 'da_capacity',\n",
    "    'da_flow',\n",
    "    # 'da_idx_prices',\n",
    "    # 'da_prices',\n",
    "    # 'da_volumes'\n",
    "]\n",
    "\n",
    "\n",
    "# --- Load data ---\n",
    "for table in tables:\n",
    "    try:\n",
    "        df = pd.read_sql(query_root+table, engine)\n",
    "        df.to_csv(f'../exports/{table}.csv',index=False)\n",
    "    except Exception as e:\n",
    "        print(f\"Failed on table: {table}. Error querying database: {e}\")\n",
    "        continue\n",
    "\n",
    "print('complete')"
   ]
  },
  {
   "cell_type": "code",
   "execution_count": 9,
   "id": "b66b6887",
   "metadata": {},
   "outputs": [],
   "source": [
    "df.head().to_csv('../exports/test.csv',index=False)"
   ]
  },
  {
   "cell_type": "code",
   "execution_count": null,
   "id": "aaea0856",
   "metadata": {},
   "outputs": [],
   "source": []
  }
 ],
 "metadata": {
  "kernelspec": {
   "display_name": "nordpooldb-env",
   "language": "python",
   "name": "python3"
  },
  "language_info": {
   "codemirror_mode": {
    "name": "ipython",
    "version": 3
   },
   "file_extension": ".py",
   "mimetype": "text/x-python",
   "name": "python",
   "nbconvert_exporter": "python",
   "pygments_lexer": "ipython3",
   "version": "3.11.11"
  }
 },
 "nbformat": 4,
 "nbformat_minor": 5
}
